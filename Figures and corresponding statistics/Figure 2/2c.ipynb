{
 "cells": [
  {
   "cell_type": "code",
   "execution_count": null,
   "metadata": {},
   "outputs": [],
   "source": [
    "import numpy as np\n",
    "import pandas as pd\n",
    "\n",
    "from matplotlib import pyplot as plt\n",
    "import seaborn as sns\n",
    "\n",
    "from random import *"
   ]
  },
  {
   "cell_type": "code",
   "execution_count": null,
   "metadata": {},
   "outputs": [],
   "source": [
    "def prob(y): #probability of reward\n",
    "    if random() <= y:\n",
    "        return 1\n",
    "    else:\n",
    "        return 0"
   ]
  },
  {
   "cell_type": "code",
   "execution_count": null,
   "metadata": {},
   "outputs": [],
   "source": [
    "def trialgenerator(y): #generating 1000 trials for the two levers; the levers switch probabilities every 10-32 trials\n",
    "    left_reward = []\n",
    "    right_reward = []\n",
    "    left_correct = []\n",
    "    right_correct = []\n",
    "    for trials in np.arange(50):\n",
    "        for x in np.arange(randint(10,32)):\n",
    "            left_reward.append(prob(y))\n",
    "            right_reward.append(prob(1-y))\n",
    "            left_correct.append(1)   #correct is 1 when reward probability is higher and 0 when lower\n",
    "            right_correct.append(0)\n",
    "        for x in np.arange(randint(10,32)):\n",
    "            left_reward.append(prob(1-y))\n",
    "            right_reward.append(prob(y))\n",
    "            left_correct.append(0)\n",
    "            right_correct.append(1)\n",
    "    del left_correct [1000:] #deleting everything after 1000 trials\n",
    "    del right_correct [1000:]\n",
    "    del left_reward[1000:]\n",
    "    del right_reward[1000:]\n",
    "    return left_reward, right_reward, left_correct, right_correct"
   ]
  },
  {
   "cell_type": "code",
   "execution_count": null,
   "metadata": {},
   "outputs": [],
   "source": [
    "def lever_update(alpha, value, reward): \n",
    "    return value + alpha *(reward - value) "
   ]
  },
  {
   "cell_type": "code",
   "execution_count": null,
   "metadata": {},
   "outputs": [],
   "source": [
    "def softmax(beta, temp_value1, temp_value2):   #temp_value1 is for left lever and temp_value2 is for right lever\n",
    "    num = np.exp(temp_value1 * beta)\n",
    "    den = np.exp(temp_value1 * beta) + np.exp(temp_value2 * beta)    \n",
    "    return num / den"
   ]
  },
  {
   "cell_type": "code",
   "execution_count": null,
   "metadata": {},
   "outputs": [],
   "source": [
    "def sim(alpha, beta, left_reward, right_reward, left_correct, right_correct): #bandit task simulated\n",
    "    right_value = [0.5]\n",
    "    left_value = [0.5]\n",
    "    correct = []\n",
    "    for index, lr in enumerate(left_reward):\n",
    "        if random() <= softmax(beta, left_value[-1], right_value[-1]):\n",
    "            left_value.append(lever_update(alpha, left_value[-1], left_reward[index]))\n",
    "            right_value.append(right_value[-1])\n",
    "            correct.append(left_correct[index])\n",
    "        else:\n",
    "            right_value.append(lever_update(alpha, right_value[-1], right_reward[index]))\n",
    "            left_value.append(left_value[-1])\n",
    "            correct.append(right_correct[index])\n",
    "    return correct"
   ]
  },
  {
   "cell_type": "code",
   "execution_count": null,
   "metadata": {},
   "outputs": [],
   "source": [
    "correct_choices = {} \n",
    "\n",
    "def figure2(prob):  #used to create data for 2c heatmaps\n",
    "    for x in np.arange(0,1.05,0.05): #range of alphas 0 to 1\n",
    "        x = round(x, 3)\n",
    "        correct_choices[x] = {}\n",
    "        for y in np.arange(0,5.1,0.1): #range of beta from 0 to 5\n",
    "            y = round(y, 3)\n",
    "            correct_choices[x][y] = {}\n",
    "            correct_list = []\n",
    "            for n in range(1):\n",
    "                left_reward, right_reward, left_correct, right_correct = trialgenerator(prob)  #setting reward for left lever\n",
    "                correct_list.append(sim(x, y, left_reward, right_reward, left_correct, right_correct))\n",
    "            correct_choices[x][y] = correct_list\n",
    "    return correct_choices[x][y]"
   ]
  }
 ],
 "metadata": {
  "kernelspec": {
   "display_name": "Python 3",
   "language": "python",
   "name": "python3"
  },
  "language_info": {
   "codemirror_mode": {
    "name": "ipython",
    "version": 3
   },
   "file_extension": ".py",
   "mimetype": "text/x-python",
   "name": "python",
   "nbconvert_exporter": "python",
   "pygments_lexer": "ipython3",
   "version": "3.8.3"
  }
 },
 "nbformat": 4,
 "nbformat_minor": 4
}
