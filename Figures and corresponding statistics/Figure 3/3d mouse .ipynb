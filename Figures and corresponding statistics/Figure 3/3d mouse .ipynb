{
 "cells": [
  {
   "cell_type": "code",
   "execution_count": null,
   "metadata": {},
   "outputs": [],
   "source": [
    "import numpy as np\n",
    "import pandas as pd\n",
    "\n",
    "from matplotlib import pyplot as plt\n",
    "import seaborn as sns\n",
    "\n",
    "from random import *\n",
    "import itertools "
   ]
  },
  {
   "cell_type": "code",
   "execution_count": null,
   "metadata": {},
   "outputs": [],
   "source": [
    "input_df = pd.read_pickle('dlight_data.pkl')\n",
    "df = input_df "
   ]
  },
  {
   "cell_type": "code",
   "execution_count": null,
   "metadata": {},
   "outputs": [],
   "source": [
    "reward = df['reward'].values.tolist()\n",
    "choices = df['right_or_left'].values.tolist()\n",
    "session = df['session'].values.tolist()"
   ]
  },
  {
   "cell_type": "code",
   "execution_count": null,
   "metadata": {},
   "outputs": [],
   "source": [
    "switch = [i for i in range(1,len(session)) if session[i]!=session[i-1] ]"
   ]
  },
  {
   "cell_type": "code",
   "execution_count": null,
   "metadata": {},
   "outputs": [],
   "source": [
    "win_stay = []\n",
    "lose_switch = []\n",
    "\n",
    "\n",
    "for index, lr in enumerate(choices[:-1]):\n",
    "    if index not in switch:\n",
    "        if choices[index] == 1:  #if chooses left\n",
    "            if reward[index] == 1:    #if wins\n",
    "                if choices[index + 1] == 1:  #if stays\n",
    "                    win_stay.append(1)\n",
    "                elif choices[index + 1] == 0:  #if switches\n",
    "                    win_stay.append(0)\n",
    "            elif reward[index] == 0:  #if loses\n",
    "                if choices[index + 1] == 0:  #if switches\n",
    "                    lose_switch.append(1)\n",
    "                elif choices[index + 1] == 1:  #if stays\n",
    "                    lose_switch.append(0)\n",
    "        elif choices[index] == 0:   #if chooses right\n",
    "            if reward[index] == 1: #if wins   \n",
    "                if choices[index + 1] == 0:  #if stays\n",
    "                    win_stay.append(1)\n",
    "                elif choices[index + 1] == 1:  #if switches\n",
    "                    win_stay.append(0)\n",
    "            elif reward[index] == 0:  #if loses\n",
    "                if choices[index + 1] == 1:  #if switches\n",
    "                    lose_switch.append(1)\n",
    "                elif choices[index + 1] == 0:  #if stays\n",
    "                    lose_switch.append(0)\n",
    "    else:\n",
    "        lose_switch.append('end')\n",
    "        win_stay.append('end')"
   ]
  },
  {
   "cell_type": "code",
   "execution_count": null,
   "metadata": {},
   "outputs": [],
   "source": [
    "n = 'end'\n",
    "wssplit = [list(y) for x, y in itertools.groupby(win_stay, lambda z: z == n) if not x]"
   ]
  },
  {
   "cell_type": "code",
   "execution_count": null,
   "metadata": {},
   "outputs": [],
   "source": [
    "w = 'end'\n",
    "\n",
    "lssplit = [list(y) for x, y in itertools.groupby(lose_switch, lambda z: z == w) if not x]"
   ]
  },
  {
   "cell_type": "code",
   "execution_count": null,
   "metadata": {},
   "outputs": [],
   "source": [
    "ws = list(map(np.mean, wssplit))\n",
    "ls = list(map(np.mean, lssplit))"
   ]
  },
  {
   "cell_type": "code",
   "execution_count": null,
   "metadata": {},
   "outputs": [],
   "source": [
    "x_axis = ['win stay'for i in range(43)] + ['lose switch'for i in range(43)]"
   ]
  },
  {
   "cell_type": "code",
   "execution_count": null,
   "metadata": {},
   "outputs": [],
   "source": [
    "y_axis = ws + ls\n",
    "temp_list = [i * 100 for i in y_axis]"
   ]
  },
  {
   "cell_type": "code",
   "execution_count": null,
   "metadata": {},
   "outputs": [],
   "source": [
    "df = pd.DataFrame(list(zip(temp_list, x_axis)),\n",
    "               columns =['% of action per session', 'action'])"
   ]
  },
  {
   "cell_type": "code",
   "execution_count": null,
   "metadata": {},
   "outputs": [],
   "source": [
    "sns.set_style(\"whitegrid\")\n",
    "ax = sns.boxplot(x=\"action\", y=\"% of action per session\", data=df, width = 0.6)\n",
    "ax = sns.swarmplot(x=\"action\", y=\"% of action per session\", data=df, color=\".25\")\n",
    "ax.set(xlabel=None)\n",
    "ax.set(ylim=(0, 105))\n",
    "ax.set_ylabel(\"% of action per session\",fontsize=12)\n",
    "ax.tick_params(labelsize=10)\n",
    "plt.savefig('boxplotmouse', bbox_inches='tight', dpi = 300)"
   ]
  }
 ],
 "metadata": {
  "kernelspec": {
   "display_name": "Python 3",
   "language": "python",
   "name": "python3"
  },
  "language_info": {
   "codemirror_mode": {
    "name": "ipython",
    "version": 3
   },
   "file_extension": ".py",
   "mimetype": "text/x-python",
   "name": "python",
   "nbconvert_exporter": "python",
   "pygments_lexer": "ipython3",
   "version": "3.8.3"
  }
 },
 "nbformat": 4,
 "nbformat_minor": 4
}
