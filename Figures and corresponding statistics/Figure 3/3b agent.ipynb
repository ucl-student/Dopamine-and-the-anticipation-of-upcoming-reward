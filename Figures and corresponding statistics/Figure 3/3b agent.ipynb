{
 "cells": [
  {
   "cell_type": "code",
   "execution_count": null,
   "metadata": {},
   "outputs": [],
   "source": [
    "import numpy as np\n",
    "import pandas as pd\n",
    "\n",
    "from matplotlib import pyplot as plt\n",
    "import seaborn as sns\n",
    "\n",
    "from random import *\n",
    "import itertools"
   ]
  },
  {
   "cell_type": "code",
   "execution_count": null,
   "metadata": {},
   "outputs": [],
   "source": [
    "def prob(y): #probability of reward\n",
    "    if random() <= y:\n",
    "        return 1\n",
    "    else:\n",
    "        return 0"
   ]
  },
  {
   "cell_type": "code",
   "execution_count": null,
   "metadata": {},
   "outputs": [],
   "source": [
    "def lever_update(alpha, value, reward):\n",
    "    value += alpha * (reward - value) \n",
    "    return(value)"
   ]
  },
  {
   "cell_type": "code",
   "execution_count": null,
   "metadata": {},
   "outputs": [],
   "source": [
    "def softmax(beta, temp_value1, temp_value2):   #temp_value1 is for left lever and temp_value2 is for right lever\n",
    "    num = np.exp(temp_value1 * beta)\n",
    "    den = np.exp(temp_value1 * beta) + np.exp(temp_value2 * beta)    \n",
    "    return num / den"
   ]
  },
  {
   "cell_type": "code",
   "execution_count": null,
   "metadata": {},
   "outputs": [],
   "source": [
    "def RW_sim(alpha, beta, temp_value1, temp_value2, left_reward, right_reward):\n",
    "    if random() <= softmax(beta, temp_value1, temp_value2):\n",
    "        leftlever = lever_update(alpha, temp_value1, left_reward)\n",
    "        rightlever = temp_value2\n",
    "        choice = 1\n",
    "    else:\n",
    "        rightlever = lever_update(alpha, temp_value2, right_reward)\n",
    "        leftlever = temp_value1\n",
    "        choice = 0\n",
    "    return leftlever, rightlever, choice"
   ]
  },
  {
   "cell_type": "code",
   "execution_count": null,
   "metadata": {},
   "outputs": [],
   "source": [
    "changes = ([-10] * 27) + ([110]*21) + ([-10] * 22) + ([110]*33) + ([-10]*36) + ([110] * 32) + ([-10]*28)+ ([110] * 48)"
   ]
  },
  {
   "cell_type": "code",
   "execution_count": null,
   "metadata": {},
   "outputs": [],
   "source": [
    "left_correct = [np.arange(0,27,1)] + [np.arange(48,70,1)] +[np.arange(103, 139,1)] + [np.arange(171,199,1)]\n",
    "left_correct = np.concatenate(left_correct)"
   ]
  },
  {
   "cell_type": "code",
   "execution_count": null,
   "metadata": {},
   "outputs": [],
   "source": [
    "right_correct = [np.arange(27,48,1)] + [np.arange(70,103,1)]+[np.arange(139, 171, 1)] + [np.arange(199, 209,1)]\n",
    "right_correct = np.concatenate(right_correct)"
   ]
  },
  {
   "cell_type": "code",
   "execution_count": null,
   "metadata": {},
   "outputs": [],
   "source": [
    "skeleton_left = []\n",
    "skeleton_right = []\n",
    "\n",
    "for i, ln in enumerate(reward):\n",
    "    if choices[i] == 1:\n",
    "        skeleton_right.append(reward[i])\n",
    "        if i in left_correct:\n",
    "            skeleton_left.append(prob(0.7))\n",
    "        else:\n",
    "            skeleton_left.append(prob(0.1))\n",
    "    elif choices[i] == 0:\n",
    "        skeleton_left.append(reward[i])\n",
    "        if i in right_correct:\n",
    "            skeleton_right.append(prob(0.7))\n",
    "        else:\n",
    "            skeleton_right.append(prob(0.1))"
   ]
  },
  {
   "cell_type": "code",
   "execution_count": null,
   "metadata": {},
   "outputs": [],
   "source": [
    "choices = []\n",
    "\n",
    "leftlever = 0.5\n",
    "rightlever = 0.5 \n",
    "for index, lr in enumerate(skeleton_left):\n",
    "    leftlever, rightlever, choice = RW_sim(0.65, 4.9, leftlever, rightlever, skeleton_right[index], skeleton_left[index])\n",
    "    choices.append(choice)\n",
    "new_list = [i * 100 for i in choices]"
   ]
  },
  {
   "cell_type": "code",
   "execution_count": null,
   "metadata": {},
   "outputs": [],
   "source": [
    "df = pd.DataFrame(list(zip(new_list)),\n",
    "               columns =['choices'])\n",
    "data = df"
   ]
  },
  {
   "cell_type": "code",
   "execution_count": null,
   "metadata": {},
   "outputs": [],
   "source": [
    "df['mean'] = data['choices'].rolling(5, min_periods=1).mean()"
   ]
  },
  {
   "cell_type": "code",
   "execution_count": null,
   "metadata": {},
   "outputs": [],
   "source": [
    "ax = df['mean'].plot(color = 'darkblue')\n",
    "sns.despine()\n",
    "plt.plot(changes,'o', color='grey')\n",
    "plt.xlabel('Trials', fontsize = 11)\n",
    "plt.ylabel('% left lever choice', fontsize = 11)\n",
    "ax.set_xlim([-15, 208])\n",
    "plt.savefig(\"2c.pdf\", transparent=True)"
   ]
  },
  {
   "cell_type": "code",
   "execution_count": null,
   "metadata": {},
   "outputs": [],
   "source": []
  }
 ],
 "metadata": {
  "kernelspec": {
   "display_name": "Python 3",
   "language": "python",
   "name": "python3"
  },
  "language_info": {
   "codemirror_mode": {
    "name": "ipython",
    "version": 3
   },
   "file_extension": ".py",
   "mimetype": "text/x-python",
   "name": "python",
   "nbconvert_exporter": "python",
   "pygments_lexer": "ipython3",
   "version": "3.8.3"
  }
 },
 "nbformat": 4,
 "nbformat_minor": 4
}
