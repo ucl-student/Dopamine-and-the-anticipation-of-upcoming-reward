{
 "cells": [
  {
   "cell_type": "code",
   "execution_count": null,
   "metadata": {},
   "outputs": [],
   "source": [
    "import numpy as np\n",
    "import pandas as pd\n",
    "\n",
    "from matplotlib import pyplot as plt\n",
    "import seaborn as sns\n",
    "\n",
    "from random import *\n",
    "import itertools "
   ]
  },
  {
   "cell_type": "code",
   "execution_count": null,
   "metadata": {},
   "outputs": [],
   "source": [
    "def prob(y): #probability of reward\n",
    "    if random() <= y:\n",
    "        return 1\n",
    "    else:\n",
    "        return 0"
   ]
  },
  {
   "cell_type": "code",
   "execution_count": null,
   "metadata": {},
   "outputs": [],
   "source": [
    "def trialgenerator(n, y): #generating 1000 trials for the two levers; the levers switch probabilities every 10-32 trials\n",
    "    left_reward = []\n",
    "    right_reward = []\n",
    "    left_correct = []\n",
    "    right_correct = []\n",
    "    for trials in np.arange(50):\n",
    "        for x in np.arange(randint(10,32)):\n",
    "            left_reward.append(prob(n))\n",
    "            right_reward.append(prob(y))\n",
    "            left_correct.append(1)   #correct is 1 when reward probability is higher and 0 when lower\n",
    "            right_correct.append(0)\n",
    "        for x in np.arange(randint(10,32)):\n",
    "            left_reward.append(prob(y))\n",
    "            right_reward.append(prob(n))\n",
    "            left_correct.append(0)\n",
    "            right_correct.append(1)\n",
    "    del left_correct [1000:] #deleting everything after 1000 trials\n",
    "    del right_correct [1000:]\n",
    "    del left_reward[1000:]\n",
    "    del right_reward[1000:]\n",
    "    return left_reward, right_reward, left_correct, right_correct"
   ]
  },
  {
   "cell_type": "code",
   "execution_count": null,
   "metadata": {},
   "outputs": [],
   "source": [
    "def lever_update(alpha, value, reward):\n",
    "    value += alpha * (reward - value) \n",
    "    return(value)"
   ]
  },
  {
   "cell_type": "code",
   "execution_count": null,
   "metadata": {},
   "outputs": [],
   "source": [
    "def softmax(beta, temp_value1, temp_value2):   #temp_value1 is for left lever and temp_value2 is for right lever\n",
    "    num = np.exp(temp_value1 * beta)\n",
    "    den = np.exp(temp_value1 * beta) + np.exp(temp_value2 * beta)    \n",
    "    return num / den"
   ]
  },
  {
   "cell_type": "code",
   "execution_count": null,
   "metadata": {},
   "outputs": [],
   "source": [
    "def RW_sim(alpha, beta, temp_value1, temp_value2, left_reward, right_reward, left_correct, right_correct):\n",
    "    if random() <= softmax(beta, temp_value1, temp_value2):\n",
    "        softmaxv = softmax(beta, temp_value1, temp_value2)\n",
    "        leftlever = lever_update(alpha, temp_value1, left_reward)\n",
    "        rightlever = temp_value2\n",
    "        choice = 1\n",
    "        correct = left_correct\n",
    "        reward = left_reward\n",
    "        transition = left_correct\n",
    "    else:\n",
    "        softmaxv = softmax(beta, temp_value1, temp_value2)\n",
    "        rightlever = lever_update(alpha, temp_value2, right_reward)\n",
    "        leftlever = temp_value1\n",
    "        correct = right_correct\n",
    "        choice = 0\n",
    "        reward = right_reward\n",
    "        transition = left_correct\n",
    "    return leftlever, rightlever, softmaxv, choice, correct, reward, transition"
   ]
  },
  {
   "cell_type": "code",
   "execution_count": null,
   "metadata": {},
   "outputs": [],
   "source": [
    "leftvalues = []\n",
    "rightvalues = []\n",
    "softmaxvalues = []\n",
    "choices = [] # +1 is left lever; 0 is right\n",
    "correct = []\n",
    "reward = []\n",
    "transition = []\n",
    "\n",
    "for n in range(50):\n",
    "    leftlever = 0.5\n",
    "    rightlever = 0.5 \n",
    "    left_reward, right_reward, left_correct, right_correct = trialgenerator(0.7, 0.1)\n",
    "    for index, lr in enumerate(left_reward):\n",
    "        leftlever, rightlever, softmaxv, choice, c, r, t = RW_sim(0.65, 4.9, leftlever, rightlever, left_reward[index], right_reward[index], left_correct[index], right_correct[index])\n",
    "        choices.append(choice)\n",
    "        correct.append(c) \n",
    "        reward.append(r)\n",
    "        transition.append(t)"
   ]
  },
  {
   "cell_type": "code",
   "execution_count": null,
   "metadata": {},
   "outputs": [],
   "source": [
    "temp_list = list(np.arange(1000,51000,1000))"
   ]
  },
  {
   "cell_type": "code",
   "execution_count": null,
   "metadata": {},
   "outputs": [],
   "source": [
    "switch = [a-1 for a in temp_list]"
   ]
  },
  {
   "cell_type": "code",
   "execution_count": null,
   "metadata": {},
   "outputs": [],
   "source": [
    "win_stay = []\n",
    "lose_switch = []\n",
    "\n",
    "\n",
    "for index, lr in enumerate(choices[:-1]):\n",
    "    if index not in switch:\n",
    "        if choices[index] == 1:  #if chooses left\n",
    "            if reward[index] == 1:    #if wins\n",
    "                if choices[index + 1] == 1:  #if stays\n",
    "                    win_stay.append(1)\n",
    "                elif choices[index + 1] == 0:  #if switches\n",
    "                    win_stay.append(0)\n",
    "            elif reward[index] == 0:  #if loses\n",
    "                if choices[index + 1] == 0:  #if switches\n",
    "                    lose_switch.append(1)\n",
    "                elif choices[index + 1] == 1:  #if stays\n",
    "                    lose_switch.append(0)\n",
    "        elif choices[index] == 0:   #if chooses right\n",
    "            if reward[index] == 1: #if wins   \n",
    "                if choices[index + 1] == 0:  #if stays\n",
    "                    win_stay.append(1)\n",
    "                elif choices[index + 1] == 1:  #if switches\n",
    "                    win_stay.append(0)\n",
    "            elif reward[index] == 0:  #if loses\n",
    "                if choices[index + 1] == 1:  #if switches\n",
    "                    lose_switch.append(1)\n",
    "                elif choices[index + 1] == 0:  #if stays\n",
    "                    lose_switch.append(0)\n",
    "    else:\n",
    "        lose_switch.append('end')\n",
    "        win_stay.append('end')"
   ]
  },
  {
   "cell_type": "code",
   "execution_count": null,
   "metadata": {},
   "outputs": [],
   "source": [
    "n = 'end'\n",
    "wssplit = [list(y) for x, y in itertools.groupby(win_stay, lambda z: z == n) if not x]"
   ]
  },
  {
   "cell_type": "code",
   "execution_count": null,
   "metadata": {},
   "outputs": [],
   "source": [
    "w = 'end'\n",
    "\n",
    "lssplit = [list(y) for x, y in itertools.groupby(lose_switch, lambda z: z == w) if not x]"
   ]
  },
  {
   "cell_type": "code",
   "execution_count": null,
   "metadata": {},
   "outputs": [],
   "source": [
    "ws = list(map(np.mean, wssplit))\n",
    "ls = list(map(np.mean, lssplit))"
   ]
  },
  {
   "cell_type": "code",
   "execution_count": null,
   "metadata": {},
   "outputs": [],
   "source": [
    "x_axis = ['win stay'for i in range(50)] + ['lose switch'for i in range(50)]\n",
    "y_axis = ws + ls\n",
    "temp_list2 = [i * 100 for i in y_axis]"
   ]
  },
  {
   "cell_type": "code",
   "execution_count": null,
   "metadata": {},
   "outputs": [],
   "source": [
    "df = pd.DataFrame(list(zip(temp_list2, x_axis)),\n",
    "               columns =['% of action per session', 'action'])"
   ]
  },
  {
   "cell_type": "code",
   "execution_count": null,
   "metadata": {},
   "outputs": [],
   "source": [
    "sns.set_style(\"whitegrid\")\n",
    "ax = sns.boxplot(x=\"action\", y=\"% of action per session\", data=df, width = 0.6, medianprops={\"zorder\":3})\n",
    "ax = sns.swarmplot(x=\"action\", y=\"% of action per session\", data=df, color= \".25\", alpha=0.5)\n",
    "ax.set(xlabel=None)\n",
    "ax.set(ylim=(0, 105))\n",
    "ax.set_ylabel(\"% of action per session\",fontsize=12)\n",
    "ax.tick_params(labelsize=10)\n",
    "plt.savefig('boxplotagent.png', bbox_inches='tight', dpi = 300)"
   ]
  },
  {
   "cell_type": "code",
   "execution_count": null,
   "metadata": {},
   "outputs": [],
   "source": [
    "highprob8 = []\n",
    "highprob7 = []\n",
    "highprob6 = []\n",
    "highprob5 = []\n",
    "highprob4 = []\n",
    "highprob3 = []\n",
    "highprob2 = []\n",
    "highprob1 = []\n",
    "hl_switch1 = []\n",
    "hl_switch2 = []\n",
    "hl_switch3 = []\n",
    "hl_switch4 = []\n",
    "hl_switch5 = []\n",
    "hl_switch6 = []\n",
    "hl_switch7 = []\n",
    "hl_switch8 = []"
   ]
  },
  {
   "cell_type": "code",
   "execution_count": null,
   "metadata": {},
   "outputs": [],
   "source": [
    "block_change = [i for i in range(1,len(transition)) if transition[i]!=transition[i-1] ]"
   ]
  },
  {
   "cell_type": "code",
   "execution_count": null,
   "metadata": {},
   "outputs": [],
   "source": [
    "for index, lr in enumerate(correct):\n",
    "    if index not in switch:\n",
    "        if index in block_change:\n",
    "            highprob8.append(correct[index-8])\n",
    "            highprob7.append(correct[index-7])\n",
    "            highprob6.append(correct[index-6])\n",
    "            highprob5.append(correct[index-5])\n",
    "            highprob4.append(correct[index-4])\n",
    "            highprob3.append(correct[index-3])\n",
    "            highprob2.append(correct[index-2])\n",
    "            highprob1.append(correct[index-1])\n",
    "            hl_switch1.append(correct[index])\n",
    "            hl_switch2.append(correct[index+1])\n",
    "            hl_switch3.append(correct[index+2])\n",
    "            hl_switch4.append(correct[index+3])\n",
    "            hl_switch5.append(correct[index+4])\n",
    "            hl_switch6.append(correct[index+5])\n",
    "            hl_switch7.append(correct[index+6])\n",
    "            hl_switch8.append(correct[index+7])\n",
    "        else:\n",
    "            pass\n",
    "    else:\n",
    "        pass "
   ]
  },
  {
   "cell_type": "code",
   "execution_count": null,
   "metadata": {},
   "outputs": [],
   "source": [
    "temp_list3 = []\n",
    "\n",
    "temp_list3 = [-8 for i in range(len(highprob8))] + [-7 for i in range(len(highprob8))] + [-6 for i in range(len(highprob8))] + [-5 for i in range(len(highprob8))] + [-4 for i in range(len(highprob8))] + [-3 for i in range(len(highprob8))] +[-2 for i in range(len(highprob8))] + [-1 for i in range(len(highprob8))] + [0 for i in range(len(highprob8))]+ [1 for i in range(len(highprob8))]+[2 for i in range(len(highprob8))]+[3 for i in range(len(highprob8))]+[4 for i in range(len(highprob8))]+[5 for i in range(len(highprob8))]+[6 for i in range(len(highprob8))]+[7 for i in range(len(highprob8))]"
   ]
  },
  {
   "cell_type": "code",
   "execution_count": null,
   "metadata": {},
   "outputs": [],
   "source": [
    "y_axis = []\n",
    "y_axis = highprob8 +highprob7+highprob6+highprob5+highprob4+highprob3+highprob2+highprob1+hl_switch1+hl_switch2+hl_switch3+hl_switch4+hl_switch5+hl_switch6+hl_switch7+hl_switch8"
   ]
  },
  {
   "cell_type": "code",
   "execution_count": null,
   "metadata": {},
   "outputs": [],
   "source": [
    "y_axis = [i * 100 for i in y_axis]"
   ]
  },
  {
   "cell_type": "code",
   "execution_count": null,
   "metadata": {},
   "outputs": [],
   "source": [
    "switch_df = pd.DataFrame(list(zip(temp_list3, y_axis)),\n",
    "               columns =['Trials from switch', '% of choice for higher reward probability'])"
   ]
  },
  {
   "cell_type": "code",
   "execution_count": null,
   "metadata": {},
   "outputs": [],
   "source": [
    "ax = sns.lineplot(x='Trials from switch', y='% of choice for higher reward probability', data = switch_df, color = 'darkblue', ci=68)\n",
    "ax.set(ylim=(0, 100))\n",
    "sns.despine()\n",
    "ax.vlines([0], 0, 100, linestyles='dashed', colors='red')\n",
    "plt.savefig('switchbehavagent.png', bbox_inches='tight', dpi = 300)"
   ]
  },
  {
   "cell_type": "code",
   "execution_count": null,
   "metadata": {},
   "outputs": [],
   "source": []
  }
 ],
 "metadata": {
  "kernelspec": {
   "display_name": "Python 3",
   "language": "python",
   "name": "python3"
  },
  "language_info": {
   "codemirror_mode": {
    "name": "ipython",
    "version": 3
   },
   "file_extension": ".py",
   "mimetype": "text/x-python",
   "name": "python",
   "nbconvert_exporter": "python",
   "pygments_lexer": "ipython3",
   "version": "3.8.3"
  }
 },
 "nbformat": 4,
 "nbformat_minor": 4
}
