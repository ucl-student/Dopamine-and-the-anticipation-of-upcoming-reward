{
 "cells": [
  {
   "cell_type": "code",
   "execution_count": null,
   "metadata": {},
   "outputs": [],
   "source": [
    "import numpy as np\n",
    "import pandas as pd\n",
    "\n",
    "from matplotlib import pyplot as plt\n",
    "import seaborn as sns\n",
    "\n",
    "import random"
   ]
  },
  {
   "cell_type": "code",
   "execution_count": null,
   "metadata": {},
   "outputs": [],
   "source": [
    "def loopfunction(alphav, reward):   #calculating value using the Rescorla-Wagner rule\n",
    "    for trials in np.arange(0,len(reward),1):\n",
    "        temp_value = value[trials]\n",
    "        temp_value += alphav * (reward[trials] - temp_value) \n",
    "        value.append(temp_value) \n",
    "    return(value)"
   ]
  },
  {
   "cell_type": "code",
   "execution_count": null,
   "metadata": {},
   "outputs": [],
   "source": [
    "value = [0.5]  \n",
    "reward = [1,1,1,1,1,1,1,1,1,1,0,0,0,0,0,0,0,0,0,0,1,1,1,1,1,1,1,1,1,1,0,0,0,0,0,0,0,0,0,0,1,1,1,1,1,1,1,1,1,1,0,0,0,0,0,0,0,0,0,0,1,1,1,1,1,1,1,1,1,1,0,0,0,0,0,0,0,0,0,0,1,1,1,1,1,1,1,1,1,1,0,0,0,0,0,0,0,0,0,0,]\n",
    "alphavalue = []\n",
    "alphavalue2 = []\n",
    "value = [0.5]\n",
    "alphavalue = loopfunction(0.2,reward)\n",
    "value = [0.5]\n",
    "alphavalue2 = loopfunction(0.8, reward)\n",
    "axes = plt.gca()\n",
    "plt.xlabel('Trials', fontsize = 12)\n",
    "plt.ylabel('Value', fontsize = 12)\n",
    "plt.xticks(np.arange(0, 100+1, 10))\n",
    "sns.despine() \n",
    "\n",
    "\n",
    "axes.plot(alphavalue, label='α = 0.2')\n",
    "axes.plot(alphavalue2, label='α = 0.8')\n",
    "lgd = axes.legend(bbox_to_anchor=(1, 0.8), loc='upper left', prop={'size': 14})\n",
    "plt.savefig(\"deterministic.png\", transparent=True, bbox_extra_artists=(lgd,), bbox_inches='tight')"
   ]
  },
  {
   "cell_type": "code",
   "execution_count": null,
   "metadata": {},
   "outputs": [],
   "source": [
    "axes = plt.gca()\n",
    "plt.xlabel('Trials', fontsize = 12)\n",
    "plt.ylabel('Reward', fontsize = 12)\n",
    "plt.xticks(np.arange(0, 100+1, 10))\n",
    "plt.yticks(np.arange(0, 1.0+1, 1))\n",
    "sns.despine()\n",
    "    \n",
    "\n",
    "\n",
    "           \n",
    "plt.plot(reward, color = 'k')\n",
    "plt.savefig(\"deterministicreward.png\", transparent=True, bbox_inches='tight')"
   ]
  },
  {
   "cell_type": "code",
   "execution_count": null,
   "metadata": {},
   "outputs": [],
   "source": [
    "def prob(y):\n",
    "    if random.random() <= y:\n",
    "        return 1\n",
    "    else:\n",
    "        return 0"
   ]
  },
  {
   "cell_type": "code",
   "execution_count": null,
   "metadata": {},
   "outputs": [],
   "source": [
    "def trialgenerator(y): #generating probabilistic environment \n",
    "    reward = []\n",
    "    transition = []\n",
    "    for trials in np.arange(5):\n",
    "        block = []\n",
    "        block2 = []\n",
    "        for x in np.arange(random.randint(10,32)):\n",
    "            block.append(prob(y))\n",
    "            transition.append(1.05)\n",
    "        for x in np.arange(random.randint(10,32)):\n",
    "            block2.append(prob(1-y))\n",
    "            transition.append(-0.05)\n",
    "        block = block + block2\n",
    "        reward.append(block)\n",
    "    trials = list(np.concatenate(reward).flat)\n",
    "    del trials[100:]\n",
    "    del transition[100:]\n",
    "    return trials, transition"
   ]
  },
  {
   "cell_type": "code",
   "execution_count": null,
   "metadata": {},
   "outputs": [],
   "source": [
    "value = [0.5]\n",
    "reward, transition = trialgenerator(0.7)\n",
    "\n",
    "alphavalue = []\n",
    "alphavalue2 = []\n",
    "value = [0.5]\n",
    "alphavalue = loopfunction(0.2,reward)\n",
    "value = [0.5]\n",
    "alphavalue2 = loopfunction(0.8, reward)\n",
    "axes = plt.gca()\n",
    "plt.xlabel('Trials', fontsize = 12)\n",
    "plt.ylabel('Value', fontsize = 12)\n",
    "plt.xticks(np.arange(0, 100+1, 10))\n",
    "axes.plot(transition,'o', color='grey')\n",
    "sns.despine()\n",
    "\n",
    "axes.plot(transition,'o', color='grey', label = 'Identity of reward probability')           \n",
    "axes.plot(alphavalue, label='α = 0.2')\n",
    "axes.plot(alphavalue2, label='α = 0.8')\n",
    "lgd = axes.legend(bbox_to_anchor=(1, 0.8), loc='upper left', prop={'size': 13})\n",
    "plt.savefig(\"probabilistic.pdf\", transparent=True, bbox_extra_artists=(lgd,), bbox_inches='tight')"
   ]
  },
  {
   "cell_type": "code",
   "execution_count": null,
   "metadata": {},
   "outputs": [],
   "source": [
    "axes = plt.gca()\n",
    "axes.plot(transition,'o', color='white')\n",
    "plt.xlabel('Trials', fontsize = 12)\n",
    "plt.ylabel('Reward', fontsize = 12)\n",
    "plt.xticks(np.arange(0, 100+1, 10))\n",
    "plt.yticks(np.arange(0, 1.0+1, 1))\n",
    "sns.despine()\n",
    "    \n",
    "plt.plot(reward, color = 'k')\n",
    "plt.savefig(\"probabilisticreward.pdf\",transparent=True)"
   ]
  }
 ],
 "metadata": {
  "kernelspec": {
   "display_name": "Python 3",
   "language": "python",
   "name": "python3"
  },
  "language_info": {
   "codemirror_mode": {
    "name": "ipython",
    "version": 3
   },
   "file_extension": ".py",
   "mimetype": "text/x-python",
   "name": "python",
   "nbconvert_exporter": "python",
   "pygments_lexer": "ipython3",
   "version": "3.8.3"
  }
 },
 "nbformat": 4,
 "nbformat_minor": 4
}
