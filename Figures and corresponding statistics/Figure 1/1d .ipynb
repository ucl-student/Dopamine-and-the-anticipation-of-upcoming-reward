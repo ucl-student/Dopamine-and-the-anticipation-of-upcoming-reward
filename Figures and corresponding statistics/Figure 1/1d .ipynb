{
 "cells": [
  {
   "cell_type": "code",
   "execution_count": null,
   "metadata": {},
   "outputs": [],
   "source": [
    "import numpy as np\n",
    "import pandas as pd\n",
    "\n",
    "from matplotlib import pyplot as plt\n",
    "import seaborn as sns\n",
    "\n",
    "from random import *"
   ]
  },
  {
   "cell_type": "code",
   "execution_count": null,
   "metadata": {},
   "outputs": [],
   "source": [
    "def prob(y):\n",
    "    if random() <= y:\n",
    "        return 1\n",
    "    else:\n",
    "        return 0"
   ]
  },
  {
   "cell_type": "code",
   "execution_count": null,
   "metadata": {},
   "outputs": [],
   "source": [
    "def trialgenerator(y):  #probabilistic environment: reward probability switches every 10-32 trials\n",
    "    rewards = []\n",
    "    true_values = []\n",
    "    for trials in np.arange(50):\n",
    "        for x in np.arange(randint(10,32)):\n",
    "            rewards.append(prob(y))\n",
    "            true_values.append(y)\n",
    "        for x in np.arange(randint(10,32)):\n",
    "            rewards.append(prob(1-y))\n",
    "            true_values.append(1-y)\n",
    "    del true_values[1000:]\n",
    "    del rewards[1000:]\n",
    "    return rewards, true_values"
   ]
  },
  {
   "cell_type": "code",
   "execution_count": null,
   "metadata": {},
   "outputs": [],
   "source": [
    "def lever_update(alpha, value, reward):\n",
    "    return value + alpha * (reward - value)"
   ]
  },
  {
   "cell_type": "code",
   "execution_count": null,
   "metadata": {},
   "outputs": [],
   "source": [
    "def loopfunction(alpha, rewards, true_values):\n",
    "\n",
    "    values = [0.5]\n",
    "    for reward in rewards:\n",
    "        values.append(lever_update(alpha, values[-1], reward))\n",
    "\n",
    "    values.pop(0)\n",
    "\n",
    "    return [abs(value - true_value) for value, true_value in zip(values, true_values)]"
   ]
  },
  {
   "cell_type": "code",
   "execution_count": null,
   "metadata": {},
   "outputs": [],
   "source": [
    "correct_choices = {} \n",
    "for x in np.arange(0,1.05,0.05): #range of alphas\n",
    "    x = round(x, 3)\n",
    "    correct_choices[x] = {}\n",
    "    for y in np.arange(0.55,1,0.05): #range of probabilities\n",
    "        y = round(y, 3)\n",
    "        correct_choices[x][y] = {}\n",
    "        correctlist = []\n",
    "        for n in range(1000):\n",
    "            rewards, true_values = trialgenerator(y)\n",
    "            correctlist.append(loopfunction(x, rewards, true_values))\n",
    "        correct_choices[x][y] = correctlist"
   ]
  },
  {
   "cell_type": "code",
   "execution_count": null,
   "metadata": {},
   "outputs": [],
   "source": [
    "heatmap = []\n",
    "for y in np.arange(0.55,1,0.05):\n",
    "    y = round(y, 3)\n",
    "    heatmap.append([np.mean(correct_choices[x][y]) for x in correct_choices])"
   ]
  },
  {
   "cell_type": "code",
   "execution_count": null,
   "metadata": {},
   "outputs": [],
   "source": [
    "df = pd.DataFrame(heatmap, index = [\"55 / 45\", \"60 / 40\", \"65 / 35\", \"70 / 30\", \"75 / 25\", \"80 / 20\", \"85 / 15\", \"90 / 10\", \"95 / 5\"], columns = [0,0.05,0.1,0.15,0.2,0.25,0.3,0.35,0.4,0.45,0.5,0.55,0.6,0.65,0.7,0.75,0.8,0.85,0.9,0.95,1] )\n",
    "df = df.multiply(100) "
   ]
  },
  {
   "cell_type": "code",
   "execution_count": null,
   "metadata": {},
   "outputs": [],
   "source": [
    "ax = sns.heatmap(df, cmap=\"rocket_r\")  \n",
    "plt.xlabel(\"α values\", fontsize = 12)\n",
    "plt.ylabel(\"Reward probabilities (%)\", fontsize = 12) \n",
    "ax.invert_yaxis()\n",
    "cbar = ax.collections[0].colorbar\n",
    "cbar.set_label('% error', labelpad=10, fontsize = 11)\n",
    "plt.savefig('1d.png', bbox_inches='tight', dpi = 300) "
   ]
  }
 ],
 "metadata": {
  "kernelspec": {
   "display_name": "Python 3",
   "language": "python",
   "name": "python3"
  },
  "language_info": {
   "codemirror_mode": {
    "name": "ipython",
    "version": 3
   },
   "file_extension": ".py",
   "mimetype": "text/x-python",
   "name": "python",
   "nbconvert_exporter": "python",
   "pygments_lexer": "ipython3",
   "version": "3.8.3"
  }
 },
 "nbformat": 4,
 "nbformat_minor": 4
}
