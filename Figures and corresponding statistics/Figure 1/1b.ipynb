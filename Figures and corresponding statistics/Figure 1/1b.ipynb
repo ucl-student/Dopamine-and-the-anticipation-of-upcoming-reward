{
 "cells": [
  {
   "cell_type": "code",
   "execution_count": null,
   "metadata": {},
   "outputs": [],
   "source": [
    "import numpy as np\n",
    "import pandas as pd\n",
    "\n",
    "from matplotlib import pyplot as plt\n",
    "import seaborn as sns\n",
    "\n",
    "from random import *"
   ]
  },
  {
   "cell_type": "code",
   "execution_count": null,
   "metadata": {},
   "outputs": [],
   "source": [
    "reward = [1,1,1,1,1,1,1]\n",
    "value = [0]"
   ]
  },
  {
   "cell_type": "code",
   "execution_count": null,
   "metadata": {},
   "outputs": [],
   "source": [
    "def loopfunction(alphav, reward):  #calculating value using the Resorla-Wagner rule\n",
    "    for trials in np.arange(0,len(reward),1):\n",
    "        temp_value = value[trials]\n",
    "        temp_value += alphav * (reward[trials] - temp_value) \n",
    "        value.append(temp_value)\n",
    "    return value"
   ]
  },
  {
   "cell_type": "code",
   "execution_count": null,
   "metadata": {},
   "outputs": [],
   "source": [
    "loopfunction(0.5, reward)\n",
    "axes = plt.gca()\n",
    "plt.xlabel('Trials', fontsize = 12)\n",
    "plt.ylabel('Value', fontsize = 12)\n",
    "plt.plot(value, color = 'dodgerblue')\n",
    "sns.despine()\n",
    "plt.savefig(\"1b.pdf\", transparent=True)"
   ]
  }
 ],
 "metadata": {
  "kernelspec": {
   "display_name": "Python 3",
   "language": "python",
   "name": "python3"
  },
  "language_info": {
   "codemirror_mode": {
    "name": "ipython",
    "version": 3
   },
   "file_extension": ".py",
   "mimetype": "text/x-python",
   "name": "python",
   "nbconvert_exporter": "python",
   "pygments_lexer": "ipython3",
   "version": "3.8.3"
  }
 },
 "nbformat": 4,
 "nbformat_minor": 4
}
