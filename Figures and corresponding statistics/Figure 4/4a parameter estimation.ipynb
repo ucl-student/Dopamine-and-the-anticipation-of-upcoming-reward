{
 "cells": [
  {
   "cell_type": "code",
   "execution_count": null,
   "metadata": {},
   "outputs": [],
   "source": [
    "import numpy as np\n",
    "import pandas as pd\n",
    "\n",
    "from matplotlib import pyplot as plt\n",
    "import seaborn as sns\n",
    "\n",
    "from random import *\n",
    "import itertools \n",
    "from scipy.optimize import minimize"
   ]
  },
  {
   "cell_type": "code",
   "execution_count": null,
   "metadata": {},
   "outputs": [],
   "source": [
    "input_df = pd.read_pickle('dlight_data.pkl')\n",
    "data = input_df\n",
    "pd.set_option(\"display.max.columns\", None)"
   ]
  },
  {
   "cell_type": "code",
   "execution_count": null,
   "metadata": {},
   "outputs": [],
   "source": [
    "session = data['session'].values.tolist() \n",
    "switch = [i for i in range(1,len(session)) if session[i]!=session[i-1] ]\n",
    "switch.append(len(session))\n",
    "block = list(np.diff(switch))\n",
    "block = [451] + block"
   ]
  },
  {
   "cell_type": "code",
   "execution_count": null,
   "metadata": {},
   "outputs": [],
   "source": [
    "name = [i for i in range(len(block))]"
   ]
  },
  {
   "cell_type": "code",
   "execution_count": null,
   "metadata": {},
   "outputs": [],
   "source": [
    "temp = []\n",
    "for i, x in enumerate(block):\n",
    "    t = [name[i] for a in range(block[i])]\n",
    "    temp.append(t)\n",
    "flat_list = [item for sublist in temp for item in sublist]"
   ]
  },
  {
   "cell_type": "code",
   "execution_count": null,
   "metadata": {},
   "outputs": [],
   "source": [
    "data['mouse'] = flat_list"
   ]
  },
  {
   "cell_type": "code",
   "execution_count": null,
   "metadata": {},
   "outputs": [],
   "source": [
    "def softmax(beta, value):   \n",
    "    num = np.exp(value * beta)\n",
    "    den = np.exp(value * beta).sum()    \n",
    "    return num / den"
   ]
  },
  {
   "cell_type": "code",
   "execution_count": null,
   "metadata": {},
   "outputs": [],
   "source": [
    "class parameter_fit(object):\n",
    "    def __init__(self, df, bounds = ((0,1), (0,5)), guess = [0.1,1]):\n",
    "        self.df = df\n",
    "        self.bounds = bounds # range for alpha and beta\n",
    "        self.guess = guess  # guess to aid scipy minimize\n",
    "        \n",
    "    def negative_log_likelihood(self, parameter):\n",
    "        df = self.df\n",
    "        alpha = parameter[0] # defining separate parameters\n",
    "        beta = parameter[1]\n",
    "        value = 0.5 * np.ones(2) # ensuring computes values for both levers/choices. Value starts at 0.5\n",
    "        \n",
    "        choices, rewards = df['right_or_left'].values.astype(int), df['reward'].values.astype(int)\n",
    "        prob_log = 0\n",
    "        session = df['session'].values.tolist()\n",
    "        switch = [i for i in range(1,len(session)) if session[i]!=session[i-1] ]\n",
    "        \n",
    "        \n",
    "        for choice, reward in zip(choices, rewards):\n",
    "            if choice not in switch:\n",
    "                value[choice] += alpha * (reward - value[choice])  \n",
    "            else:\n",
    "                value = 0.5\n",
    "            prob_log += np.log(softmax(value, beta)[choice])\n",
    "\n",
    "        return -prob_log\n",
    "\n",
    "    def minimisation(self):\n",
    "        bounds = (self.bounds)\n",
    "        mini = minimize(self.negative_log_likelihood, self.guess,\n",
    "                     method='L-BFGS-B',\n",
    "                     bounds=bounds)  # method is optimisation algorithm,\n",
    "        return mini\n",
    "\n",
    "    def data_fit(self):\n",
    "        data_fit = pd.DataFrame()\n",
    "        for mice in self.df['mouse'].unique().tolist():\n",
    "            df1 = self.df[self.df['mouse'] == mice]\n",
    "            df1 = df1.reset_index(drop = True)\n",
    "            mouse = df1['mouse'].unique().tolist()\n",
    "            sim = parameter_fit(df1,self.bounds,self.guess)\n",
    "            output = sim.minimisation()\n",
    "            data = pd.DataFrame({'mouse':mouse,'alpha':output.x[0],'beta':output.x[1],\n",
    "                                '- log likelihood':output.fun})\n",
    "            data_fit = data_fit.append(data)\n",
    "        return data_fit"
   ]
  },
  {
   "cell_type": "code",
   "execution_count": null,
   "metadata": {},
   "outputs": [],
   "source": [
    "model = parameter_fit(data)\n",
    "fit = model.data_fit()"
   ]
  },
  {
   "cell_type": "code",
   "execution_count": null,
   "metadata": {},
   "outputs": [],
   "source": [
    "y_axis = fit['alpha'].values.tolist() \n",
    "beta = fit['beta'].values.tolist() \n",
    "x_axis = ['α'for i in range(43)]\n",
    "x_axis2 = ['β' for i in range(43)] "
   ]
  },
  {
   "cell_type": "code",
   "execution_count": null,
   "metadata": {},
   "outputs": [],
   "source": [
    "df2 = pd.DataFrame(list(zip(y_axis, x_axis)),\n",
    "                columns =['Parameter value', 'Parameter'])"
   ]
  },
  {
   "cell_type": "code",
   "execution_count": null,
   "metadata": {},
   "outputs": [],
   "source": [
    "sns.set_style(\"whitegrid\")\n",
    "ax = sns.boxplot(x=\"Parameter\", y=\"Parameter value\", data=df2, width = 0.4)\n",
    "ax = sns.swarmplot(x=\"Parameter\", y=\"Parameter value\", data=df2, color=\".25\")\n",
    "ax.set(xlabel=None)\n",
    "ax.set_ylabel(\"Parameter value\",fontsize=12)\n",
    "ax.set(ylim=(0, 1.05))\n",
    "ax.tick_params(labelsize=11)\n",
    "plt.savefig('boxplotalpha.png', bbox_inches='tight', dpi = 300)"
   ]
  },
  {
   "cell_type": "code",
   "execution_count": null,
   "metadata": {},
   "outputs": [],
   "source": [
    "df3 = pd.DataFrame(list(zip(beta, x_axis2)),\n",
    "                columns =['Parameter value', 'Parameter'])"
   ]
  },
  {
   "cell_type": "code",
   "execution_count": null,
   "metadata": {},
   "outputs": [],
   "source": [
    "ax = sns.boxplot(x=\"Parameter\", y=\"Parameter value\", data=df3, width = 0.4, color = 'darkorange')\n",
    "ax = sns.swarmplot(x=\"Parameter\", y=\"Parameter value\", data=df3, color=\".25\")\n",
    "ax.set(xlabel=None)\n",
    "ax.set_ylabel(\"Parameter value\",fontsize=12)\n",
    "ax.set(ylim=(0, 5.1))\n",
    "ax.tick_params(labelsize=11)\n",
    "plt.savefig('boxplotbeta.png', bbox_inches='tight', dpi = 300)"
   ]
  }
 ],
 "metadata": {
  "kernelspec": {
   "display_name": "Python 3",
   "language": "python",
   "name": "python3"
  },
  "language_info": {
   "codemirror_mode": {
    "name": "ipython",
    "version": 3
   },
   "file_extension": ".py",
   "mimetype": "text/x-python",
   "name": "python",
   "nbconvert_exporter": "python",
   "pygments_lexer": "ipython3",
   "version": "3.8.3"
  }
 },
 "nbformat": 4,
 "nbformat_minor": 4
}
