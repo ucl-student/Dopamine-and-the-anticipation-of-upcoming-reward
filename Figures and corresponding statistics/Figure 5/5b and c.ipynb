{
 "cells": [
  {
   "cell_type": "code",
   "execution_count": null,
   "metadata": {},
   "outputs": [],
   "source": [
    "import numpy as np\n",
    "import pandas as pd\n",
    "\n",
    "from matplotlib import pyplot as plt\n",
    "import seaborn as sns\n",
    "\n",
    "from random import *\n",
    "import itertools \n",
    "from scipy.optimize import minimize\n",
    "from sklearn.metrics import r2_score"
   ]
  },
  {
   "cell_type": "code",
   "execution_count": null,
   "metadata": {},
   "outputs": [],
   "source": [
    "def softmax(beta, value):   \n",
    "    num = np.exp(value * beta)\n",
    "    den = np.exp(value * beta).sum()    \n",
    "    return num / den"
   ]
  },
  {
   "cell_type": "code",
   "execution_count": null,
   "metadata": {},
   "outputs": [],
   "source": [
    "class parameter_fit(object):\n",
    "    def __init__(self, df, bounds = ((0,1), (0,5)), guess = [0.1,1]):\n",
    "        self.df = df\n",
    "        self.bounds = bounds # range for alpha and beta\n",
    "        self.guess = guess  # guess to aid scipy minimize\n",
    "        \n",
    "    def negative_log_likelihood(self, parameter):\n",
    "        df = self.df\n",
    "        alpha = parameter[0] # defining separate parameters\n",
    "        beta = parameter[1]\n",
    "        value = 0.5 * np.ones(2) # ensuring computes values for both levers/choices. Value starts at 0.5\n",
    "        \n",
    "        choices, rewards = df['right_or_left'].values.astype(int), df['reward'].values.astype(int)\n",
    "        prob_log = 0\n",
    "        session = df['session'].values.tolist()\n",
    "        switch = [i for i in range(1,len(session)) if session[i]!=session[i-1] ]\n",
    "        \n",
    "        \n",
    "        for choice, reward in zip(choices, rewards):\n",
    "            if choice not in switch:\n",
    "                value[choice] += alpha * (reward - value[choice])  \n",
    "            else:\n",
    "                value = 0.5\n",
    "            prob_log += np.log(softmax(value, beta)[choice])\n",
    "\n",
    "        return -prob_log\n",
    "\n",
    "    def minimisation(self):\n",
    "        bounds = (self.bounds)\n",
    "        mini = minimize(self.negative_log_likelihood, self.guess,\n",
    "                     method='L-BFGS-B',\n",
    "                     bounds=bounds)  # method is optimisation algorithm,\n",
    "        return mini\n",
    "\n",
    "    def data_fit(self):\n",
    "        data_fit = pd.DataFrame()\n",
    "        for mice in self.df['mouse'].unique().tolist():\n",
    "            df1 = self.df[self.df['mouse'] == mice]\n",
    "            df1 = df1.reset_index(drop = True)\n",
    "            mouse = df1['mouse'].unique().tolist()\n",
    "            sim = parameter_fit(df1,self.bounds,self.guess)\n",
    "            output = sim.minimisation()\n",
    "            data = pd.DataFrame({'mouse':mouse,'alpha':output.x[0],'beta':output.x[1],\n",
    "                                '- log likelihood':output.fun})\n",
    "            data_fit = data_fit.append(data)\n",
    "        return data_fit"
   ]
  },
  {
   "cell_type": "code",
   "execution_count": null,
   "metadata": {},
   "outputs": [],
   "source": [
    "input_df = pd.read_pickle('dlight_data.pkl')\n",
    "data = input_df"
   ]
  },
  {
   "cell_type": "code",
   "execution_count": null,
   "metadata": {},
   "outputs": [],
   "source": [
    "session = data['session'].values.tolist() \n",
    "switch = [i for i in range(1,len(session)) if session[i]!=session[i-1] ]\n",
    "switch.append(len(session))\n",
    "block = list(np.diff(switch))\n",
    "block = [451] + block"
   ]
  },
  {
   "cell_type": "code",
   "execution_count": null,
   "metadata": {},
   "outputs": [],
   "source": [
    "name = [i for i in range(len(block))]\n",
    "temp = []\n",
    "for i, x in enumerate(block):\n",
    "    t = [name[i] for a in range(block[i])]\n",
    "    temp.append(t)\n",
    "flat_list = [item for sublist in temp for item in sublist]"
   ]
  },
  {
   "cell_type": "code",
   "execution_count": null,
   "metadata": {},
   "outputs": [],
   "source": [
    "data['mouse'] = flat_list"
   ]
  },
  {
   "cell_type": "code",
   "execution_count": null,
   "metadata": {},
   "outputs": [],
   "source": [
    "model = parameter_fit(data)\n",
    "fit = model.data_fit()"
   ]
  },
  {
   "cell_type": "code",
   "execution_count": null,
   "metadata": {},
   "outputs": [],
   "source": [
    "def RW_fit(alpha, left_value, right_value, reward, choices):\n",
    "    if choices == 1: #if right choice\n",
    "        delta = (reward - right_value)\n",
    "        right_value += alpha * (reward - right_value)  \n",
    "        left_value = left_value\n",
    "    elif choices == 0: #if left choice\n",
    "        delta = (reward - left_value)\n",
    "        left_value += alpha * (reward - left_value)     \n",
    "        right_value = right_value\n",
    "    return delta, left_value, right_value"
   ]
  },
  {
   "cell_type": "code",
   "execution_count": null,
   "metadata": {},
   "outputs": [],
   "source": [
    "def infer(mouse):  #calulating representations of value and rpe for each session\n",
    "    leftlever = 0.5\n",
    "    rightlever = 0.5\n",
    "    delta = []\n",
    "    left_value = [0.5]\n",
    "    right_value = [0.5]\n",
    "    \n",
    "    alpha = fit[fit['mouse']==mouse]['alpha'].item() \n",
    "    choices = data[data['mouse']==mouse]['right_or_left'].values.tolist() \n",
    "    session = data[data['mouse']==mouse]['session'].values.tolist() \n",
    "    reward = data[data['mouse']==mouse]['reward'].values.tolist()\n",
    "    signal = data[data['mouse']==mouse]['cs_signal'].values.tolist()\n",
    "    switch = [i for i in range(1,len(session)) if session[i]!=session[i-1] ]\n",
    "    \n",
    "    for index, lr in enumerate(reward):  \n",
    "        if index in switch:\n",
    "            leftlever = 0.5\n",
    "            rightlever = 0.5\n",
    "            a, leftlever, rightlever = RW_fit(alpha, leftlever, rightlever, reward[index], choices[index])\n",
    "            delta.append(a)\n",
    "            left_value.append(leftlever)\n",
    "            right_value.append(rightlever)\n",
    "        else:\n",
    "            a, leftlever, rightlever = RW_fit(alpha, leftlever, rightlever, reward[index], choices[index])\n",
    "            delta.append(a)\n",
    "            left_value.append(leftlever)\n",
    "            right_value.append(rightlever)\n",
    "    \n",
    "    return delta, left_value, right_value, reward, signal, switch"
   ]
  },
  {
   "cell_type": "code",
   "execution_count": null,
   "metadata": {},
   "outputs": [],
   "source": [
    "delta, left_value, right_value, reward, signal, switch = infer(12)"
   ]
  },
  {
   "cell_type": "code",
   "execution_count": null,
   "metadata": {},
   "outputs": [],
   "source": [
    "plt.plot(signal[100]) #example dopamine trace\n",
    "sns.despine(left=True)\n",
    "ax = plt.gca()\n",
    "ax.axes.yaxis.set_visible(False)\n",
    "ax.set(ylim=(-1.2, 2.8))\n",
    "plt.xlabel('Frequency / 500 Hz', fontsize = 11)\n",
    "ax.vlines([1500], -1.18, 2.8, linestyles='dashed', colors='k')\n",
    "ax.vlines([1000], -1.18, 2.8, linestyles='dashed', colors='k')\n",
    "ax.vlines([3000], -1.18, 2.8, linestyles='dashed', colors='k')\n",
    "plt.savefig(\"5b.png\", transparent=True, bbox_inches='tight')"
   ]
  },
  {
   "cell_type": "code",
   "execution_count": null,
   "metadata": {},
   "outputs": [],
   "source": [
    "negRPE = []\n",
    "noRPE = []\n",
    "posRPE = []\n",
    "for index, r in enumerate(delta):\n",
    "    if delta[index] <= -0.25:\n",
    "        negRPE.append(index)\n",
    "    elif -0.25 < delta[index]< 0.25:\n",
    "        noRPE.append(index)\n",
    "    elif delta[index] >= 0.25:\n",
    "        posRPE.append(index)\n",
    "    else:\n",
    "        pass"
   ]
  },
  {
   "cell_type": "code",
   "execution_count": null,
   "metadata": {},
   "outputs": [],
   "source": [
    "negRPE_signal = []\n",
    "noRPE_signal = []\n",
    "posRPE_signal = []\n",
    "for index, r in enumerate(signal):\n",
    "    if index in negRPE:\n",
    "        negRPE_signal.append(signal[index])\n",
    "    elif index in noRPE:\n",
    "        noRPE_signal.append(signal[index])\n",
    "    elif index in posRPE:\n",
    "        posRPE_signal.append(signal[index])"
   ]
  },
  {
   "cell_type": "code",
   "execution_count": null,
   "metadata": {},
   "outputs": [],
   "source": [
    "from scipy import stats\n",
    "def tsplot(ax, data, color, lw = 1,**kw): #making exemplar dopamine traces with error for different RPE ranges\n",
    "    x = np.arange(data.shape[1])\n",
    "    est = np.nanmean(data, axis=0)\n",
    "    sd = np.nanstd(data, axis=0)/np.sqrt(data.shape[0])\n",
    "    cis = (est - sd, est + sd)\n",
    "    plt.fill_between(x,cis[0],cis[1],alpha=0.2, facecolor = color, **kw)\n",
    "    plt.plot(x,est,**kw, c = color, linewidth = lw)"
   ]
  },
  {
   "cell_type": "code",
   "execution_count": null,
   "metadata": {},
   "outputs": [],
   "source": [
    "ax = plt.figure(figsize = (8,3))\n",
    "plt.subplot()\n",
    "plot_data_cs = [(np.array(x) - np.mean(x[1000:1500])) for x in noRPE_signal]\n",
    "tsplot(ax, np.array(plot_data_cs), color = 'k')\n",
    "plt.axis('off')\n",
    "plt.ylim(-0.8, 1.7)\n",
    "plt.xlim(1000,3000)\n",
    "plt.axhline(y = 0, linestyle = '--', c = '0.5')\n",
    "plt.axvline(x = 1500, linestyle = '--', c = '0.5')\n",
    "plt.savefig(\"noRPE.png\", transparent=True, bbox_inches='tight')"
   ]
  },
  {
   "cell_type": "code",
   "execution_count": null,
   "metadata": {},
   "outputs": [],
   "source": [
    "ax = plt.figure(figsize = (8,3))\n",
    "plt.subplot()\n",
    "plot_data_cs = [(np.array(x) - np.mean(x[1000:1500])) for x in posRPE_signal]\n",
    "tsplot(ax, np.array(plot_data_cs), color = 'k')\n",
    "plt.axis('off')\n",
    "plt.ylim(-0.8, 1.7)\n",
    "plt.xlim(1000,3000)\n",
    "plt.axhline(y = 0, linestyle = '--', c = '0.5')\n",
    "plt.axvline(x = 1500, linestyle = '--', c = '0.5')\n",
    "plt.savefig(\"posRPE.png\", transparent=True, bbox_inches='tight')"
   ]
  },
  {
   "cell_type": "code",
   "execution_count": null,
   "metadata": {},
   "outputs": [],
   "source": [
    "ax = plt.figure(figsize = (8,3))\n",
    "plt.subplot()\n",
    "plot_data_cs = [(np.array(x) - np.mean(x[1000:1500])) for x in negRPE_signal]\n",
    "tsplot(ax, np.array(plot_data_cs), color = 'k')\n",
    "plt.axis('off')\n",
    "plt.ylim(-0.8, 1.7)\n",
    "plt.xlim(1000,3000)\n",
    "plt.axhline(y = 0, linestyle = '--', c = '0.5')\n",
    "plt.axvline(x = 1500, linestyle = '--', c = '0.5')\n",
    "plt.savefig(\"negRPE.png\", transparent=True, bbox_inches='tight')"
   ]
  },
  {
   "cell_type": "code",
   "execution_count": null,
   "metadata": {},
   "outputs": [],
   "source": [
    "delta = []\n",
    "signal = []\n",
    "for n in np.arange(0,43,1): #calculating representations for each mouse\n",
    "    a, left_value, right_value, reward, b, switch = infer(n)\n",
    "    delta.append(a)\n",
    "    signal.append(b)\n",
    "delta = np.concatenate(delta)\n",
    "signal = np.concatenate(signal)"
   ]
  },
  {
   "cell_type": "code",
   "execution_count": null,
   "metadata": {},
   "outputs": [],
   "source": [
    "negRPE = []\n",
    "noRPE = []\n",
    "posRPE = []\n",
    "for index, r in enumerate(delta):\n",
    "    if delta[index] <= -0.25:\n",
    "        negRPE.append(index)\n",
    "    elif -0.25 <= delta[index]<= 0.25:\n",
    "        noRPE.append(index)\n",
    "    elif delta[index] >= 0.25:\n",
    "        posRPE.append(index)\n",
    "    else:\n",
    "        pass"
   ]
  },
  {
   "cell_type": "code",
   "execution_count": null,
   "metadata": {},
   "outputs": [],
   "source": [
    "negRPE_signal = []\n",
    "noRPE_signal = []\n",
    "posRPE_signal = []\n",
    "for index, r in enumerate(signal):\n",
    "    if index in negRPE:\n",
    "        negRPE_signal.append(signal[index])\n",
    "    elif index in noRPE:\n",
    "        noRPE_signal.append(signal[index])\n",
    "    elif index in posRPE:\n",
    "        posRPE_signal.append(signal[index])"
   ]
  },
  {
   "cell_type": "code",
   "execution_count": null,
   "metadata": {},
   "outputs": [],
   "source": [
    "negRPEsummary = []\n",
    "for i, j in enumerate(negRPE_signal):\n",
    "    f = np.mean(negRPE_signal[i][1500:3000]) - np.mean(negRPE_signal[i][1000:1500])\n",
    "    negRPEsummary.append(f)\n",
    "    \n",
    "noRPEsummary = []\n",
    "for i, j in enumerate(noRPE_signal):\n",
    "    g = np.mean(noRPE_signal[i][1500:3000]) - np.mean(noRPE_signal[i][1000:1500])\n",
    "    noRPEsummary.append(g)\n",
    "    \n",
    "posRPEsummary = []\n",
    "for i, j in enumerate(posRPE_signal):\n",
    "    h = np.mean(posRPE_signal[i][1500:3000]) - np.mean(posRPE_signal[i][1000:1500])\n",
    "    posRPEsummary.append(h)"
   ]
  },
  {
   "cell_type": "code",
   "execution_count": null,
   "metadata": {},
   "outputs": [],
   "source": [
    "def mean_confidence_interval(data, confidence=0.95):  #used to calculate points for 5c\n",
    "    a = 1.0 * np.array(data)\n",
    "    n = len(a)\n",
    "    m, se = np.mean(a), scipy.stats.sem(a)\n",
    "    h = se * scipy.stats.t.ppf((1 + confidence) / 2., n-1)\n",
    "    return m, m-h, m+h"
   ]
  }
 ],
 "metadata": {
  "kernelspec": {
   "display_name": "Python 3",
   "language": "python",
   "name": "python3"
  },
  "language_info": {
   "codemirror_mode": {
    "name": "ipython",
    "version": 3
   },
   "file_extension": ".py",
   "mimetype": "text/x-python",
   "name": "python",
   "nbconvert_exporter": "python",
   "pygments_lexer": "ipython3",
   "version": "3.8.3"
  }
 },
 "nbformat": 4,
 "nbformat_minor": 4
}
